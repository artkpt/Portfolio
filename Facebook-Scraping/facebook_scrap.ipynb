{
 "cells": [
  {
   "cell_type": "code",
   "execution_count": 41,
   "metadata": {},
   "outputs": [],
   "source": [
    "import os\n",
    "import time\n",
    "\n",
    "from selenium import webdriver\n",
    "from selenium.webdriver.chrome.options import Options\n",
    "import bs4\n",
    "\n",
    "from dotenv import load_dotenv, find_dotenv"
   ]
  },
  {
   "cell_type": "code",
   "execution_count": 2,
   "metadata": {},
   "outputs": [],
   "source": [
    "load_dotenv(find_dotenv())\n",
    "\n",
    "# User credentials\n",
    "EMAIL = os.getenv(\"EMAIL\")\n",
    "PASSWORD = os.getenv(\"PASSWORD\")"
   ]
  },
  {
   "cell_type": "code",
   "execution_count": 3,
   "metadata": {},
   "outputs": [],
   "source": [
    "option = Options()\n",
    "option.add_experimental_option(\"prefs\", {\n",
    "        \"profile.default_content_setting_values.notifications\": 1\n",
    "    })"
   ]
  },
  {
   "cell_type": "code",
   "execution_count": 96,
   "metadata": {},
   "outputs": [],
   "source": [
    "browser = webdriver.Chrome(options=option)\n",
    "browser.get('https://www.facebook.com/')\n",
    "browser.maximize_window()\n",
    "\n",
    "browser.find_element_by_name('email').send_keys(EMAIL)\n",
    "browser.find_element_by_name('pass').send_keys(PASSWORD)\n",
    "browser.find_element_by_name('login').click()\n",
    "time.sleep(2)\n",
    "\n",
    "browser.get(\"https://www.facebook.com/search/posts?q=ztec&filters=eyJycF9jcmVhdGlvbl90aW1lOjAiOiJ7XCJuYW1lXCI6XCJjcmVhdGlvbl90aW1lXCIsXCJhcmdzXCI6XCJ7XFxcInN0YXJ0X3llYXJcXFwiOlxcXCIyMDI0XFxcIixcXFwic3RhcnRfbW9udGhcXFwiOlxcXCIyMDI0LTFcXFwiLFxcXCJlbmRfeWVhclxcXCI6XFxcIjIwMjRcXFwiLFxcXCJlbmRfbW9udGhcXFwiOlxcXCIyMDI0LTEyXFxcIixcXFwic3RhcnRfZGF5XFxcIjpcXFwiMjAyNC0xLTFcXFwiLFxcXCJlbmRfZGF5XFxcIjpcXFwiMjAyNC0xMi0zMVxcXCJ9XCJ9In0%3D\")\n"
   ]
  },
  {
   "cell_type": "code",
   "execution_count": 37,
   "metadata": {},
   "outputs": [],
   "source": [
    "# กำหนดระยะเวลารอข้อมูลใหม่โหลด\n",
    "SCROLL_PAUSE_TIME = 5\n",
    "\n",
    "# หาความสูงของหน้าเพจเริ่มต้น\n",
    "last_height = browser.execute_script(\"return document.body.scrollHeight\")\n",
    "\n",
    "while True:\n",
    "    # เลื่อนหน้าเว็บลงไปจนถึงด้านล่างสุด\n",
    "    browser.execute_script(\"window.scrollTo(0, document.body.scrollHeight);\")\n",
    "    \n",
    "    # รอให้หน้าเว็บโหลดข้อมูลใหม่\n",
    "    time.sleep(SCROLL_PAUSE_TIME)\n",
    "\n",
    "    # หาความสูงของหน้าเพจหลังจากเลื่อนแล้ว\n",
    "    new_height = browser.execute_script(\"return document.body.scrollHeight\")\n",
    "\n",
    "    # ถ้าความสูงไม่เปลี่ยนแสดงว่าไม่มีข้อมูลใหม่แล้ว ก็หยุดการเลื่อน\n",
    "    if new_height == last_height:\n",
    "        break\n",
    "\n",
    "    # กำหนดความสูงของหน้าเพจใหม่\n",
    "    last_height = new_height"
   ]
  },
  {
   "cell_type": "code",
   "execution_count": 100,
   "metadata": {},
   "outputs": [],
   "source": [
    "see_more_buttons = browser.find_elements_by_xpath(\"//span[contains(text(), 'See more') or contains(text(), 'ดูเพิ่มเติม')]\")\n",
    "for button in see_more_buttons:\n",
    "    try:\n",
    "        button.click()\n",
    "        time.sleep(1)  # Wait a bit between clicks\n",
    "    except Exception as e:\n",
    "        print(f\"Error clicking 'See More': {e}\")\n",
    "\n"
   ]
  },
  {
   "cell_type": "code",
   "execution_count": 99,
   "metadata": {},
   "outputs": [],
   "source": [
    "browser.execute_script(\"window.scrollTo(0, document.body.scrollHeight);\")"
   ]
  },
  {
   "cell_type": "code",
   "execution_count": 101,
   "metadata": {},
   "outputs": [
    {
     "data": {
      "text/plain": [
       "11"
      ]
     },
     "execution_count": 101,
     "metadata": {},
     "output_type": "execute_result"
    }
   ],
   "source": [
    "all_post = browser.find_elements_by_xpath('//div[@class=\"x1yztbdb x1n2onr6 xh8yej3 x1ja2u2z\"]')\n",
    "len(all_post)"
   ]
  },
  {
   "cell_type": "code",
   "execution_count": 102,
   "metadata": {},
   "outputs": [],
   "source": [
    "data = browser.page_source\n",
    "soup = bs4.BeautifulSoup(data)"
   ]
  },
  {
   "cell_type": "code",
   "execution_count": 103,
   "metadata": {},
   "outputs": [],
   "source": [
    "all_post = soup.findAll('div',{'class':'x1yztbdb x1n2onr6 xh8yej3 x1ja2u2z'})"
   ]
  },
  {
   "cell_type": "code",
   "execution_count": 104,
   "metadata": {},
   "outputs": [],
   "source": [
    "get_caption = []\n",
    "\n",
    "for post in all_post:\n",
    "    try :\n",
    "        get_caption.append(post.find('div',{'class':'x1l90r2v x1pi30zi x1swvt13 x1iorvi4'}).text)\n",
    "    except:\n",
    "        get_caption.append('')"
   ]
  },
  {
   "cell_type": "code",
   "execution_count": 105,
   "metadata": {},
   "outputs": [
    {
     "data": {
      "text/plain": [
       "['สายชาร์จ แบบไม่มีคุณภาพ มีเกลื่อนท้องตลาดลูกค้าซื้อไป ถ้าไม่มีเครื่องตรวจสอบ ก็ไม่รู้เลยว่า สายชาร์จ ปล่อยกำลังไฟ ได้ตามที่ระบุ จริงหรือเปล่า ?!! ดังนั้น อย่าให้ใครมาหลอกเรา... ดูเพิ่มเติม',\n",
       " 'ZTEC HUB ZH831 มีตัวเดียวจบทุกการเชื่อมต่อ!  คุ้มมาก รับชมเลย.....ขอขอบพระคุณ - ช่องเสียบปลั๊ก',\n",
       " 'กิจกรรมลุ้นรับ \"กล้องวงจรปิด\" จาก IMILAB Thailand รุ่น C21 2 รางวัล มูลค่า 1,990.-. กติกาง่ายๆ เพียงแค่1) อวดรูปเด็กๆในคอมเมนต์2)... ดูเพิ่มเติม',\n",
       " 'ZTEC TAG  ปกป้องสัตว์เลี้ยงของคุณ ด้วยเทคโนโลยีที่คุณไว้ใจได้ ไม่ว่าคุณจะอยู่ที่ไหน ให้ ZTEC TAG เป็นเพื่อนคู่ใจในการดูแลความปลอดภัยของสัตว์เลี้ยงที่คุณรัก ด้วยการออกแบบที่ทนทานและทันสมัย ช่วยให้คุณติดตามสัตว์เลี้ยงของคุณได้ทุกที ทุกเวลา พิกัดในแอปสัม : https://shopee.co.th/product/1003025970/25665595381/#... ดูเพิ่มเติม',\n",
       " 'ZTEC ZH831 USB-C Hub 8 in 1 ครบจบในตัวเดียว เพิ่มพอร์ตให้การทำงานของคุณง่ายขึ้น.คลิปนี้พบกับ ZTEC ZH831 USB-C Hub 8 in 1 ที่มาพร้อมพอร์ตการเชื่อมต่อที่ครบครัน ไม่ว่าจะเป็น HDMI, USB-A, USB-C, SD Card Reader และอีกมากมาย รีวิวนี้เราจะพาคุณไปสำรวจการใช้งานจริงของ ZTEC ZH831 ว่ามันจะช่วยเพิ่มประสิทธิภาพการทำงานของคุณได้มากแค่ไหน ทั้งในด้านการทำงานหรือการใช้งานส่วนตัว. Link พาไปซื้อ... ดูเพิ่มเติม',\n",
       " '',\n",
       " 'ZTEC ZC521 / ZC522 สายชาร์จ 5A 100W สายวัดกำลังไฟ USB-C to USB-C วัสดุสายถัก -2Y[[ จุดเด่นสินค้า ]]- สายชาร์จ USB-C to USB-C รองรับชาร์จเร็ว 5A 100W   * รองรับเทคโนโลยี Quick Charge , Power Delivery... ดูเพิ่มเติม',\n",
       " 'ของมันต้องมี อุปกรณ์ไฮเทคจากแบรนด์ ZTEC  Friday Sale ลดสนั่นวันศุกร์!  รับโค้ดส่วนลด 20% ไม่มีขั้นต่ำ เก็บโค้ด + ช้อปเลย > https://goto.in.th/YbO3wa.ช้อปที่เว็บไซต์ดีอย่างไร ส่งฟรีไม่มีขั้นต่ำทุกออเดอร์  ของแท้จากแบรนด์ 100 % + รับประกันสินค้า... ดูเพิ่มเติม',\n",
       " 'ร่วมกิจกรรมด้วยค่ะตอบ สินค้ารุ่นใหม่ของ Yaber มีชื่อว่า Yaber T2 Plus',\n",
       " 'อาทิตย์นี้มีรีวิว 2 ตัวนี้ครับ ---------------------- Xiaomi Band 9 สั่งโปร 15 วันนี้มาส่งละ ศูนย์ไทย เดี๋ยวเทียบกับ Xiaomi Band 8 - ZTEC ZH831 USB-C Hub 8 in 1 ใช้ได้ทั้ง Notebook Macbook Smart Phone ได้หมด แก้ปัญหา ช่วยให้ชีวิตดีขึ้นเยอะครับ เดี๋ยวจะมาเล่ารีวิวใช้งานแต่ละ Device ให้ฟังครับ',\n",
       " 'Type-C HUB พกพาอเนกประสงค์ 8 in 1 USB-C เชื่อมต่อได้ทั้ง iOS Android Notebook PC [ZTEC ZH831] #zteczh831 #ztec #hubusbc']"
      ]
     },
     "execution_count": 105,
     "metadata": {},
     "output_type": "execute_result"
    }
   ],
   "source": [
    "get_caption"
   ]
  },
  {
   "cell_type": "code",
   "execution_count": 73,
   "metadata": {},
   "outputs": [],
   "source": [
    "get_influ = []\n",
    "\n",
    "for post in all_post:\n",
    "    try :\n",
    "        get_influ.append(post.find('div',{'class':'xu06os2 x1ok221b'}).text)\n",
    "    except:\n",
    "        get_influ.append('')"
   ]
  },
  {
   "cell_type": "code",
   "execution_count": 74,
   "metadata": {},
   "outputs": [
    {
     "data": {
      "text/plain": [
       "['Where is SaRa สาระอยู่ไหน',\n",
       " 'หน้าแมว',\n",
       " 'ZTEC',\n",
       " 'ZTEC',\n",
       " 'Imkaopodkua studio',\n",
       " 'จิตติมา แก้วงาม',\n",
       " 'Gadget สุดเจ๋ง By Jackie',\n",
       " '',\n",
       " 'ZTEC',\n",
       " 'พี่.เอ.ไอ ข่าวไอที',\n",
       " 'Bigcoke No.1',\n",
       " 'Thaisuperphone',\n",
       " 'เอกภพ มะโรณีย์',\n",
       " 'มิสเตอร์ องค์ชาย']"
      ]
     },
     "execution_count": 74,
     "metadata": {},
     "output_type": "execute_result"
    }
   ],
   "source": [
    "get_influ"
   ]
  },
  {
   "cell_type": "code",
   "execution_count": 106,
   "metadata": {},
   "outputs": [],
   "source": [
    "get_create = []\n",
    "\n",
    "for post in all_post:\n",
    "    try :\n",
    "        get_create.append(post.find('div',{'class':'html-div xdj266r x11i5rnm xat24cr x1mh8g0r xexx8yu x4uap5 x18d9i69 xkhd6sd x1q0g3np'}).text)\n",
    "    except:\n",
    "        get_create.append('')"
   ]
  },
  {
   "cell_type": "code",
   "execution_count": 107,
   "metadata": {},
   "outputs": [
    {
     "data": {
      "text/plain": [
       "['1 วัน\\xa0 · แชร์กับ สาธารณะ',\n",
       " '3 วัน\\xa0 · แชร์กับ สาธารณะ',\n",
       " '3 วัน\\xa0 · แชร์กับ สาธารณะ',\n",
       " '3 วัน\\xa0 · แชร์กับ สาธารณะ',\n",
       " '2 วัน\\xa0 · แชร์กับ สาธารณะ',\n",
       " '',\n",
       " '1 วัน\\xa0 · แชร์กับ สาธารณะ',\n",
       " '2 วัน\\xa0 · แชร์กับ สาธารณะ',\n",
       " '3 ชม.\\xa0 · แชร์กับ สาธารณะ',\n",
       " '17 สิงหาคม เวลา 20:32 น.\\xa0 · แชร์กับ สาธารณะ',\n",
       " '6 วัน\\xa0 · แชร์กับ สาธารณะ']"
      ]
     },
     "execution_count": 107,
     "metadata": {},
     "output_type": "execute_result"
    }
   ],
   "source": [
    "get_create"
   ]
  },
  {
   "cell_type": "code",
   "execution_count": 108,
   "metadata": {},
   "outputs": [
    {
     "name": "stdout",
     "output_type": "stream",
     "text": [
      "['2 วัน\\xa0 · แชร์กับ สาธารณะ', '', '6 วัน\\xa0 · แชร์กับ สาธารณะ', '3 ชม.\\xa0 · แชร์กับ สาธารณะ', '3 วัน\\xa0 · แชร์กับ สาธารณะ', '1 วัน\\xa0 · แชร์กับ สาธารณะ', '17 สิงหาคม เวลา 20:32 น.\\xa0 · แชร์กับ สาธารณะ']\n"
     ]
    }
   ],
   "source": [
    "unique_list = list(set(get_create))\n",
    "\n",
    "print(unique_list)\n"
   ]
  }
 ],
 "metadata": {
  "kernelspec": {
   "display_name": "Python 3",
   "language": "python",
   "name": "python3"
  },
  "language_info": {
   "codemirror_mode": {
    "name": "ipython",
    "version": 3
   },
   "file_extension": ".py",
   "mimetype": "text/x-python",
   "name": "python",
   "nbconvert_exporter": "python",
   "pygments_lexer": "ipython3",
   "version": "3.10.0"
  }
 },
 "nbformat": 4,
 "nbformat_minor": 2
}
